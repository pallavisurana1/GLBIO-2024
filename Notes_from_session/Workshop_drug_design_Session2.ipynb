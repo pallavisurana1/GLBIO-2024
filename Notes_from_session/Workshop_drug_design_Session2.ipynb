{
 "cells": [
  {
   "cell_type": "markdown",
   "id": "bad57d05-c3eb-4f38-96b6-d8f8ed40295f",
   "metadata": {},
   "source": [
    "#### SESSION 2"
   ]
  },
  {
   "cell_type": "markdown",
   "id": "9de57803-4084-4557-96cc-b73bbaca118f",
   "metadata": {},
   "source": [
    "1. oncopredict\n",
    "2. sciduc\n",
    "\n",
    "drug synergy\n",
    "1. cancerGPT"
   ]
  },
  {
   "cell_type": "markdown",
   "id": "c0a2a139-36d0-4d44-bacc-8618d9635501",
   "metadata": {},
   "source": [
    "#### DRUG RESPONSE PRED\n",
    "1. Individual genetic profiles: expression levels (actively transcribing ones)\n",
    "2. gene expression data - how patient response to the drug (mircoarrays, NGS tech)\n",
    "   * Other data too (genomic mutation, CNmutations)\n",
    "   * select most effective medication with least side effects\n",
    "   * Drug response prediciton with gene expression data - improve clinical outcomes\n",
    "\n",
    "     Challenges:\n",
    "     1. High dimensionality (overfitting - too many genes or features)\n",
    "     2. feature selection done hence (random forest)\n",
    "     3. interpretable decisions (deep neural nets - tough)\n",
    "     4. data heterogeneity and quality (depends on how data was generated etc)\n",
    "        "
   ]
  },
  {
   "cell_type": "markdown",
   "id": "f8936a61-916c-432c-9642-d969fb1b4008",
   "metadata": {},
   "source": [
    "#### R package oncopredict\n",
    "https://cran.r-project.org/web/packages/oncoPredict/index.html\n",
    "\n",
    "#### how drug response is imputed\n",
    "ridge regression (expression and response)\n",
    "ctrp (pan cancer drug atlas cell lines) - https://www.cancer.gov/about-nci/organization/ccct/ctrp\n",
    "\n",
    "#### sciDUC- https://www.ncbi.nlm.nih.gov/pmc/articles/PMC10634928/\n",
    "* transfer based approach integrates bulk with single cell dataset\n",
    "* integration of bulk and single cell data to capture common gene expression patterns\n",
    "* train on integrated data then\n",
    "\n",
    "##### Integration step\n",
    "1. CCA using SVD (apply SVD on cross covariance matrix) - metagenes is output\n",
    "2. get low dimensional embeddings of the single cell and bulk data matrices\n",
    "3. PRISM - drug screen dataset - downlaod on DepMap - https://depmap.org/portal/download/custom/\n",
    "4. DRG score (drug response score)\n",
    "5. Rho stats and cohensD to measure effect size. (Higher value is better)\n",
    "\n",
    "##### How to run sciDUC\n",
    "1. Genes to model\n",
    "2. preprocess single cell data - log and CPM\n",
    "3. bootstrap sampling approach"
   ]
  },
  {
   "cell_type": "markdown",
   "id": "9c1e329b-51dc-4fd1-b11d-5ca9d65bf739",
   "metadata": {},
   "source": [
    "#### DRUG SYNERGY\n",
    "CancerGPT \n",
    "\n",
    "1. accelerated discovery"
   ]
  },
  {
   "cell_type": "code",
   "execution_count": null,
   "id": "0d99f2a1-c7fb-48e8-9e64-ce4b6c7f7887",
   "metadata": {},
   "outputs": [],
   "source": []
  },
  {
   "cell_type": "code",
   "execution_count": 2,
   "id": "621bc27c-4ed4-448b-8a2c-61dde065bc88",
   "metadata": {},
   "outputs": [
    {
     "data": {
      "text/plain": [
       "\"\\nHere's a basic example of how you can retrieve the SMILES \\nstring for a specific compound by its name, \\nCAS number, or CID (Compound ID).\\n\""
      ]
     },
     "execution_count": 2,
     "metadata": {},
     "output_type": "execute_result"
    }
   ],
   "source": [
    "# Part 1: Obtain Data\n",
    "#______________________________________________________________________________\n",
    "'''\n",
    "This setup will allow you to effectively access chemical data from PubChem.\n",
    "'''\n",
    "\n",
    "### Step 1: Install `pubchempy`\n",
    "\n",
    "#pip install pubchempy\n",
    "\n",
    "### Step 2: Using `pubchempy` to Retrieve SMILES\n",
    "'''\n",
    "Here's a basic example of how you can retrieve the SMILES \n",
    "string for a specific compound by its name, \n",
    "CAS number, or CID (Compound ID).\n",
    "'''"
   ]
  },
  {
   "cell_type": "code",
   "execution_count": 3,
   "id": "f09826bc-ecee-495b-a8f7-50d25a1468ac",
   "metadata": {},
   "outputs": [
    {
     "name": "stdout",
     "output_type": "stream",
     "text": [
      "SMILES for Aspirin: CC(=O)OC1=CC=CC=C1C(=O)O\n",
      "SMILES for CID 2244: CC(=O)OC1=CC=CC=C1C(=O)O\n",
      "SMILES for benzene: ['C1=CC=CC=C1']\n"
     ]
    }
   ],
   "source": [
    "#### Example 1: Retrieve SMILES by Compound Name\n",
    "\n",
    "import pubchempy as pcp\n",
    "\n",
    "def get_smiles_by_name(compound_name):\n",
    "    try:\n",
    "        compound = pcp.get_compounds(compound_name, 'name')[0]  # Get the first matching compound\n",
    "        return compound.isomeric_smiles  # Return the isomeric SMILES string\n",
    "    except IndexError:\n",
    "        return \"Compound not found\"\n",
    "\n",
    "# Example usage\n",
    "compound_name = 'Aspirin'\n",
    "smiles_string = get_smiles_by_name(compound_name)\n",
    "print(f'SMILES for {compound_name}: {smiles_string}')\n",
    "# SMILES for Aspirin: CC(=O)OC1=CC=CC=C1C(=O)O\n",
    "\n",
    "#### Example 2: Retrieve SMILES by CID\n",
    "\n",
    "def get_smiles_by_cid(cid):\n",
    "    try:\n",
    "        compound = pcp.Compound.from_cid(cid)\n",
    "        return compound.isomeric_smiles\n",
    "    except Exception as e:\n",
    "        return str(e)\n",
    "\n",
    "# Example usage\n",
    "cid = 2244  # CID for Aspirin\n",
    "smiles_string = get_smiles_by_cid(cid)\n",
    "print(f'SMILES for CID {cid}: {smiles_string}')\n",
    "# SMILES for CID 2244: CC(=O)OC1=CC=CC=C1C(=O)O\n",
    "\n",
    "### Step 3: Handling Multiple Compounds and Advanced Queries\n",
    "'''\n",
    "Note: PubChemPy allows for more complex queries and handling multiple results.\n",
    "'''\n",
    "def search_smiles(query):\n",
    "    compounds = pcp.get_compounds(query, 'name')\n",
    "    smiles_list = [comp.isomeric_smiles for comp in compounds if comp.isomeric_smiles is not None]\n",
    "    return smiles_list\n",
    "\n",
    "# Example usage\n",
    "query = 'benzene'\n",
    "smiles_results = search_smiles(query)\n",
    "print(f'SMILES for {query}: {smiles_results}')\n",
    "# SMILES for benzene: ['C1=CC=CC=C1']\n",
    "\n"
   ]
  },
  {
   "cell_type": "code",
   "execution_count": 6,
   "id": "9c7a829f-4a70-48e2-8025-f64e99d78a54",
   "metadata": {},
   "outputs": [
    {
     "name": "stderr",
     "output_type": "stream",
     "text": [
      "/home/campus.stonybrook.edu/psurana/miniconda3/envs/py_data_process/lib/python3.11/site-packages/huggingface_hub/file_download.py:1132: FutureWarning: `resume_download` is deprecated and will be removed in version 1.0.0. Downloads always resume when possible. If you want to force a new download, use `force_download=True`.\n",
      "  warnings.warn(\n",
      "Some weights of the model checkpoint at bert-base-uncased were not used when initializing BertForMaskedLM: ['bert.pooler.dense.bias', 'bert.pooler.dense.weight', 'cls.seq_relationship.bias', 'cls.seq_relationship.weight']\n",
      "- This IS expected if you are initializing BertForMaskedLM from the checkpoint of a model trained on another task or with another architecture (e.g. initializing a BertForSequenceClassification model from a BertForPreTraining model).\n",
      "- This IS NOT expected if you are initializing BertForMaskedLM from the checkpoint of a model that you expect to be exactly identical (initializing a BertForSequenceClassification model from a BertForSequenceClassification model).\n"
     ]
    }
   ],
   "source": [
    "# Part 2: Train LLM\n",
    "#______________________________________________________________________________\n",
    "\n",
    "import torch\n",
    "from transformers import BertTokenizer, BertForMaskedLM\n",
    "from torch.utils.data import DataLoader, Dataset\n",
    "from rdkit import Chem\n",
    "\n",
    "# Create a custom dataset for SMILES strings\n",
    "class SmilesDataset(Dataset):\n",
    "    def __init__(self, smiles, tokenizer, max_length=512):\n",
    "        self.tokenizer = tokenizer\n",
    "        self.data = [tokenizer.encode(smile, max_length=max_length, truncation=True) for smile in smiles]\n",
    "\n",
    "    def __len__(self):\n",
    "        return len(self.data)\n",
    "\n",
    "    def __getitem__(self, idx):\n",
    "        return torch.tensor(self.data[idx], dtype=torch.long)\n",
    "\n",
    "# Sample data (usually you'll have much more data)\n",
    "smiles_data = [\"CCO\", \"O=C(O)c1ccccc1C(=O)O\", \"CCCC\"]\n",
    "\n",
    "# Initialize tokenizer and model\n",
    "tokenizer = BertTokenizer.from_pretrained('bert-base-uncased')\n",
    "model = BertForMaskedLM.from_pretrained('bert-base-uncased')\n"
   ]
  },
  {
   "cell_type": "code",
   "execution_count": 8,
   "id": "b133424a-2d0a-4d10-9229-2a122d2a3b74",
   "metadata": {},
   "outputs": [],
   "source": [
    "# Prepare dataset and dataloader\n",
    "dataset = SmilesDataset(smiles_data, tokenizer)\n",
    "dataloader = DataLoader(dataset, batch_size=2, shuffle=True)\n",
    "\n",
    "# Example training loop (simplified)\n",
    "model.train()\n",
    "optimizer = torch.optim.Adam(model.parameters(), lr=1e-4)\n"
   ]
  },
  {
   "cell_type": "code",
   "execution_count": null,
   "id": "a6259d32-258e-42b2-acd7-b09327d1e19c",
   "metadata": {},
   "outputs": [],
   "source": [
    "for epoch in range(2):  # This would be much higher in a real scenario\n",
    "    for batch in dataloader:\n",
    "        outputs = model(batch, labels=batch)\n",
    "        loss = outputs.loss\n",
    "        loss.backward()\n",
    "        optimizer.step()\n",
    "        optimizer.zero_grad()\n",
    "        print(f\"Training loss: {loss.item()}\")"
   ]
  },
  {
   "cell_type": "code",
   "execution_count": 10,
   "id": "20b4eb6b-9861-4813-9cdb-67be4d56649f",
   "metadata": {},
   "outputs": [
    {
     "name": "stderr",
     "output_type": "stream",
     "text": [
      "2024-05-13 15:47:11.621035: I tensorflow/core/platform/cpu_feature_guard.cc:210] This TensorFlow binary is optimized to use available CPU instructions in performance-critical operations.\n",
      "To enable the following instructions: AVX2 FMA, in other operations, rebuild TensorFlow with the appropriate compiler flags.\n",
      "2024-05-13 15:47:12.294584: W tensorflow/compiler/tf2tensorrt/utils/py_utils.cc:38] TF-TRT Warning: Could not find TensorRT\n"
     ]
    },
    {
     "name": "stdout",
     "output_type": "stream",
     "text": [
      "Generated invalid SMILES\n"
     ]
    },
    {
     "name": "stderr",
     "output_type": "stream",
     "text": [
      "[15:47:13] SMILES Parse Error: syntax error while parsing: CC(C)topical\n",
      "[15:47:13] SMILES Parse Error: Failed parsing SMILES 'CC(C)topical' for input: 'CC(C)topical'\n"
     ]
    },
    {
     "data": {
      "text/plain": [
       "'\\nWhen you receive an output like \"Generated valid SMILES: CC(C)\", \\nit indicates that the SMILES string \"CC(C)\" has been successfully \\nrecognized and validated as a correct representation of a chemical \\nstructure using the RDKit library. \\n'"
      ]
     },
     "execution_count": 10,
     "metadata": {},
     "output_type": "execute_result"
    }
   ],
   "source": [
    "# Generating a new molecule (basic example) aka a SMILES string\n",
    "model.eval()\n",
    "sampled_smiles = \"CC(C)\"\n",
    "input_ids = tokenizer.encode(sampled_smiles, return_tensors=\"pt\")\n",
    "with torch.no_grad():\n",
    "    predictions = model(input_ids)[0]\n",
    "    predicted_index = torch.argmax(predictions[0, -1, :]).item()\n",
    "    predicted_token = tokenizer.decode([predicted_index])\n",
    "    new_smiles = sampled_smiles + predicted_token\n",
    "\n",
    "# Validate new SMILES\n",
    "new_smiles = new_smiles.strip(\",.!? \")  # Remove potentially problematic characters\n",
    "new_mol = Chem.MolFromSmiles(new_smiles)\n",
    "if new_mol:\n",
    "    print(f\"Generated valid SMILES: {new_smiles}\")\n",
    "else:\n",
    "    print(\"Generated invalid SMILES\")\n",
    "# Generated valid SMILES: CC(C)\n",
    "\"\"\"\n",
    "When you receive an output like \"Generated valid SMILES: CC(C)\", \n",
    "it indicates that the SMILES string \"CC(C)\" has been successfully \n",
    "recognized and validated as a correct representation of a chemical \n",
    "structure using the RDKit library. \n",
    "\"\"\"\n"
   ]
  },
  {
   "cell_type": "code",
   "execution_count": 12,
   "id": "1d812e19-f526-4392-b391-956caa5672f4",
   "metadata": {},
   "outputs": [
    {
     "data": {
      "text/plain": [
       "'CC(C)topical'"
      ]
     },
     "execution_count": 12,
     "metadata": {},
     "output_type": "execute_result"
    }
   ],
   "source": [
    "new_smiles"
   ]
  }
 ],
 "metadata": {
  "kernelspec": {
   "display_name": "Python 3 (ipykernel)",
   "language": "python",
   "name": "python3"
  },
  "language_info": {
   "codemirror_mode": {
    "name": "ipython",
    "version": 3
   },
   "file_extension": ".py",
   "mimetype": "text/x-python",
   "name": "python",
   "nbconvert_exporter": "python",
   "pygments_lexer": "ipython3",
   "version": "3.11.5"
  }
 },
 "nbformat": 4,
 "nbformat_minor": 5
}
